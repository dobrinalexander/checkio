{
 "cells": [
  {
   "cell_type": "code",
   "execution_count": 40,
   "metadata": {},
   "outputs": [
    {
     "data": {
      "text/plain": [
       "['O.X', 'XX.', 'XOO']"
      ]
     },
     "execution_count": 40,
     "metadata": {},
     "output_type": "execute_result"
    }
   ],
   "source": [
    "game_result =[\n",
    "        \"O.X\",\n",
    "        \"XX.\",\n",
    "        \"XOO\"]\n",
    "game_result"
   ]
  },
  {
   "cell_type": "code",
   "execution_count": 41,
   "metadata": {},
   "outputs": [],
   "source": [
    "import numpy as np"
   ]
  },
  {
   "cell_type": "code",
   "execution_count": 42,
   "metadata": {},
   "outputs": [],
   "source": [
    "dic_count_xs_os_t = {'X':0, 'O':0}"
   ]
  },
  {
   "cell_type": "code",
   "execution_count": 43,
   "metadata": {},
   "outputs": [
    {
     "data": {
      "text/plain": [
       "array([[-1,  0,  1],\n",
       "       [ 1,  1,  0],\n",
       "       [ 1, -1, -1]])"
      ]
     },
     "execution_count": 43,
     "metadata": {},
     "output_type": "execute_result"
    }
   ],
   "source": [
    "table_result = np.array([list(map(lambda x: {'X':1, 'O':-1, '.':0}[x], list(row))) for row in game_result])\n",
    "table_result"
   ]
  },
  {
   "cell_type": "code",
   "execution_count": 44,
   "metadata": {},
   "outputs": [
    {
     "name": "stdout",
     "output_type": "stream",
     "text": [
      "X\n",
      "Wall time: 0 ns\n"
     ]
    }
   ],
   "source": [
    "%%time\n",
    "row_count= []\n",
    "column_count= []\n",
    "diag_count_1 = 0\n",
    "diag_count_2 = 0\n",
    "\n",
    "for i in range(len(table_result)):\n",
    "    row_count.append(sum(table_result[i,:]))\n",
    "    column_count.append(sum(table_result[:,i]))\n",
    "    diag_count_1 += table_result[i,i]\n",
    "    diag_count_2 += table_result[i,len(table_result)-i-1]\n",
    "    \n",
    "if (3 in row_count) or (3 in column_count) or (3 == diag_count_1) or (3 == diag_count_2):\n",
    "    print('X')\n",
    "elif (-3 in row_count) or (-3 in column_count) or (-3 == diag_count_1) or (-3 == diag_count_2):\n",
    "    print('O')\n",
    "else:\n",
    "    print('Draw')    "
   ]
  },
  {
   "cell_type": "code",
   "execution_count": null,
   "metadata": {},
   "outputs": [],
   "source": []
  }
 ],
 "metadata": {
  "kernelspec": {
   "display_name": "Python 3",
   "language": "python",
   "name": "python3"
  },
  "language_info": {
   "codemirror_mode": {
    "name": "ipython",
    "version": 3
   },
   "file_extension": ".py",
   "mimetype": "text/x-python",
   "name": "python",
   "nbconvert_exporter": "python",
   "pygments_lexer": "ipython3",
   "version": "3.6.5"
  }
 },
 "nbformat": 4,
 "nbformat_minor": 2
}
