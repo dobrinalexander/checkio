{
 "cells": [
  {
   "cell_type": "code",
   "execution_count": 130,
   "metadata": {},
   "outputs": [
    {
     "name": "stdout",
     "output_type": "stream",
     "text": [
      "[4, 4, 4, 4, 2, 2, 2, 6, 6]\n",
      "[4, 4, 4, 4, 2, 2, 2, 6, 6]\n"
     ]
    }
   ],
   "source": [
    "items = [4,6,2,2,2,6,4,4,4]\n",
    "if sum([items.count(x) for x in items]) == len(items):\n",
    "    print(items)\n",
    "else:\n",
    "    first = sorted(items, key=lambda x: items.count(x), reverse=True)\n",
    "    second = sorted(first, key=lambda x: first.index(x), reverse=False)\n",
    "    print(first)\n",
    "    print(second)"
   ]
  }
 ],
 "metadata": {
  "kernelspec": {
   "display_name": "Python 3",
   "language": "python",
   "name": "python3"
  },
  "language_info": {
   "codemirror_mode": {
    "name": "ipython",
    "version": 3
   },
   "file_extension": ".py",
   "mimetype": "text/x-python",
   "name": "python",
   "nbconvert_exporter": "python",
   "pygments_lexer": "ipython3",
   "version": "3.6.5"
  }
 },
 "nbformat": 4,
 "nbformat_minor": 2
}
