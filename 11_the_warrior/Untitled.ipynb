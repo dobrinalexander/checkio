{
 "cells": [
  {
   "cell_type": "code",
   "execution_count": 16,
   "metadata": {},
   "outputs": [],
   "source": [
    "class Warrior:\n",
    "    def __init__(self, health = 50, attack = 5, is_alive = True):\n",
    "        self.health = health\n",
    "        self.attack = attack\n",
    "        self.is_alive = is_alive\n",
    "        \n",
    "class Knight(Warrior):\n",
    "    def __init__(self):\n",
    "        Warrior.__init__(self, health = 50, attack = 7, is_alive = True)"
   ]
  },
  {
   "cell_type": "code",
   "execution_count": 17,
   "metadata": {},
   "outputs": [],
   "source": [
    "def fight(unit_1, unit_2):\n",
    "    if unit_2.health//unit_1.attack <= unit_1.health//unit_2.attack:\n",
    "        unit_2.health = 0\n",
    "        unit_2.is_alive = False\n",
    "        if unit_2.health//unit_1.attack == unit_1.health//unit_2.attack:\n",
    "            unit_1.health -= ((unit_1.health//unit_2.attack)-1)*unit_2.attack\n",
    "        else:\n",
    "            unit_1.health -= (unit_1.health//unit_2.attack)*unit_2.attack\n",
    "        return True\n",
    "    else:\n",
    "        unit_1.health = 0\n",
    "        unit_1.is_alive = False\n",
    "        unit_2.health -= (unit_2.health//unit_1.attack)*unit_1.attack\n",
    "        return False"
   ]
  },
  {
   "cell_type": "code",
   "execution_count": 18,
   "metadata": {},
   "outputs": [],
   "source": [
    "chuck = Warrior()\n",
    "bruce = Warrior()\n",
    "carl = Knight()\n",
    "dave = Warrior()\n",
    "mark = Warrior()\n",
    "jim = Knight()"
   ]
  },
  {
   "cell_type": "code",
   "execution_count": 19,
   "metadata": {},
   "outputs": [
    {
     "data": {
      "text/plain": [
       "True"
      ]
     },
     "execution_count": 19,
     "metadata": {},
     "output_type": "execute_result"
    }
   ],
   "source": [
    "fight(carl, jim)"
   ]
  },
  {
   "cell_type": "code",
   "execution_count": 20,
   "metadata": {},
   "outputs": [
    {
     "data": {
      "text/plain": [
       "True"
      ]
     },
     "execution_count": 20,
     "metadata": {},
     "output_type": "execute_result"
    }
   ],
   "source": [
    "fight(chuck, bruce)"
   ]
  },
  {
   "cell_type": "code",
   "execution_count": 21,
   "metadata": {},
   "outputs": [
    {
     "data": {
      "text/plain": [
       "True"
      ]
     },
     "execution_count": 21,
     "metadata": {},
     "output_type": "execute_result"
    }
   ],
   "source": [
    "fight(dave, carl)"
   ]
  },
  {
   "cell_type": "code",
   "execution_count": 22,
   "metadata": {},
   "outputs": [
    {
     "data": {
      "text/plain": [
       "False"
      ]
     },
     "execution_count": 22,
     "metadata": {},
     "output_type": "execute_result"
    }
   ],
   "source": [
    "bruce.is_alive"
   ]
  },
  {
   "cell_type": "code",
   "execution_count": null,
   "metadata": {},
   "outputs": [],
   "source": [
    "5//2"
   ]
  },
  {
   "cell_type": "code",
   "execution_count": null,
   "metadata": {},
   "outputs": [],
   "source": []
  }
 ],
 "metadata": {
  "kernelspec": {
   "display_name": "Python 3",
   "language": "python",
   "name": "python3"
  },
  "language_info": {
   "codemirror_mode": {
    "name": "ipython",
    "version": 3
   },
   "file_extension": ".py",
   "mimetype": "text/x-python",
   "name": "python",
   "nbconvert_exporter": "python",
   "pygments_lexer": "ipython3",
   "version": "3.6.5"
  }
 },
 "nbformat": 4,
 "nbformat_minor": 2
}
